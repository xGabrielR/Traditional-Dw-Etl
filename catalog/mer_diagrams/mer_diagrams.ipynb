{
 "cells": [
  {
   "attachments": {},
   "cell_type": "markdown",
   "metadata": {},
   "source": [
    "## Mer Diagrams"
   ]
  },
  {
   "attachments": {},
   "cell_type": "markdown",
   "metadata": {},
   "source": [
    "### 0.0. Requirements"
   ]
  },
  {
   "attachments": {},
   "cell_type": "markdown",
   "metadata": {},
   "source": [
    "#### 0.1. Imports"
   ]
  },
  {
   "cell_type": "code",
   "execution_count": 1,
   "metadata": {},
   "outputs": [],
   "source": [
    "import os\n",
    "import re\n",
    "import graphviz\n",
    "\n",
    "from eralchemy import render_er\n",
    "from sqlalchemy.engine import create_engine\n",
    "from IPython.display import HTML, display, Image\n",
    "\n",
    "from warnings import filterwarnings\n",
    "\n",
    "filterwarnings('ignore')"
   ]
  },
  {
   "cell_type": "code",
   "execution_count": 2,
   "metadata": {},
   "outputs": [
    {
     "name": "stdout",
     "output_type": "stream",
     "text": [
      "linux\n",
      "SQLAlchemy Version: 1.4.47\n"
     ]
    }
   ],
   "source": [
    "from sys import platform\n",
    "from sqlalchemy import __version__\n",
    "\n",
    "print(platform)\n",
    "print(f'SQLAlchemy Version: {__version__}')"
   ]
  },
  {
   "attachments": {},
   "cell_type": "markdown",
   "metadata": {},
   "source": [
    "### 1.0. Mer Diagrams"
   ]
  },
  {
   "attachments": {},
   "cell_type": "markdown",
   "metadata": {},
   "source": [
    "#### 1.1. Load Data"
   ]
  },
  {
   "cell_type": "code",
   "execution_count": null,
   "metadata": {},
   "outputs": [],
   "source": [
    "ssms_db   = os.environ.get(\"ssms_db\")\n",
    "ssms_host = os.environ.get(\"ssms_host\")\n",
    "ssms_user = os.environ.get(\"ssms_user\")\n",
    "ssms_pswd = os.environ.get(\"ssms_pswd\")"
   ]
  },
  {
   "cell_type": "code",
   "execution_count": 4,
   "metadata": {},
   "outputs": [],
   "source": [
    "string_con_sql_server = f\"mssql+pyodbc:///?odbc_connect=DRIVER={{ODBC Driver 17 for SQL Server}};SERVER={ssms_host};DATABASE={ssms_db};UID={ssms_user};PWD={ssms_pswd}\"\n",
    "\n",
    "db = create_engine(string_con_sql_server)\n",
    "con = db.connect()"
   ]
  },
  {
   "cell_type": "code",
   "execution_count": 7,
   "metadata": {},
   "outputs": [],
   "source": [
    "dw_tables = con.execute(f\"SELECT TABLE_SCHEMA, TABLE_NAME FROM INFORMATION_SCHEMA.TABLES WHERE TABLE_NAME like 'D[_]%' ORDER BY 1\")\n",
    "dims = dw_tables.fetchall()\n",
    "\n",
    "# Remove Test and Bkp Tables \n",
    "dims = [dim_table for dim_table in dims if not (re.findall('bkp', dim_table[-1].lower()) or re.findall('test', dim_table[-1].lower()))]"
   ]
  },
  {
   "cell_type": "code",
   "execution_count": 8,
   "metadata": {},
   "outputs": [],
   "source": [
    "dw_tables = con.execute(f\"SELECT TABLE_SCHEMA, TABLE_NAME FROM INFORMATION_SCHEMA.TABLES WHERE TABLE_NAME like 'F[_]%' ORDER BY 1\")\n",
    "facts = dw_tables.fetchall()\n",
    "\n",
    "# Remove Test and Bkp Tables \n",
    "facts = [fac_table for fac_table in facts if not (re.findall('bkp', fac_table[-1].lower()) or re.findall('test', fac_table[-1].lower()))]"
   ]
  },
  {
   "cell_type": "code",
   "execution_count": 9,
   "metadata": {},
   "outputs": [],
   "source": [
    "SCHEMAS = list(set([k[0] for k in facts]))\n",
    "\n",
    "dims_name_list = [k[-1] for k in dims]\n",
    "#dims_and_facts = list(set([k[-1] for k in dims])) + list(set([k[-1] for k in facts]))"
   ]
  },
  {
   "cell_type": "code",
   "execution_count": 11,
   "metadata": {},
   "outputs": [
    {
     "data": {
      "text/plain": [
       "(['DMOls'], ['D_CLIENTE', 'D_PRODUTO', 'D_VENDEDOR'])"
      ]
     },
     "execution_count": 11,
     "metadata": {},
     "output_type": "execute_result"
    }
   ],
   "source": [
    "SCHEMAS, dims_name_list"
   ]
  },
  {
   "attachments": {},
   "cell_type": "markdown",
   "metadata": {},
   "source": [
    "#### 1.2. Get Facts -> Dims"
   ]
  },
  {
   "cell_type": "code",
   "execution_count": null,
   "metadata": {},
   "outputs": [],
   "source": [
    "dms_dict = {}\n",
    "\n",
    "for dm in SCHEMAS:\n",
    "    print(\"\\n\" + dm + \"\\n\")\n",
    "\n",
    "    dms_dict[dm] = {}\n",
    "    dm_facts_list = con.execute(f\"SELECT TABLE_NAME FROM INFORMATION_SCHEMA.TABLES WHERE TABLE_SCHEMA = '{dm}' AND TABLE_NAME like 'F_%' ORDER BY 1\")\n",
    "\n",
    "    for fact in [k[0] for k in dm_facts_list.fetchall()]: # remove fetchall tuples\n",
    "        if re.findall('bkp', fact.lower()) or re.findall('test', fact.lower()): \n",
    "            del fact\n",
    "            continue\n",
    "\n",
    "        fact_cols_query = f\"SELECT COLUMN_NAME FROM INFORMATION_SCHEMA.COLUMNS WHERE TABLE_SCHEMA = '{dm}' AND TABLE_NAME = '{fact}'\"\n",
    "        fact_cols = con.execute(fact_cols_query).fetchall()\n",
    "        fact_cols = [k[0] for k in fact_cols]\n",
    "\n",
    "        fact_join_dims = [ # Get all Dims Cols for One Fact\n",
    "            k.replace('SK_F_', 'F_').replace('SK_D_', 'D_').replace('SK_', 'D_') for k in fact_cols \\\n",
    "                if (re.search('SK_D_', k) or re.search('D_', k) or re.search('SK_', k))\n",
    "        ]\n",
    "\n",
    "        dims_exists = []\n",
    "        for d in fact_join_dims:\n",
    "            if d not in dims_name_list:\n",
    "                print(f\"\\t{dm}.{d} Not Exists\")\n",
    "            else: \n",
    "                dims_exists.append(d)\n",
    "\n",
    "        #dims_exists = [d for d in fact_join_dims if d in dims_name_list]\n",
    "\n",
    "        # Remove Facts if exists on dims list\n",
    "        dims_exists = [k for k in dims_exists if not k.startswith('F_')]\n",
    "        \n",
    "        dms_dict[dm][fact] = {'cols': fact_cols, 'dims': dims_exists}"
   ]
  },
  {
   "cell_type": "code",
   "execution_count": 13,
   "metadata": {},
   "outputs": [
    {
     "data": {
      "text/plain": [
       "{'F_ORDEM_ITEM': {'cols': ['SK_F_ORDEM_ITEM',\n",
       "   'SK_D_CLIENTE',\n",
       "   'SK_D_VENDEDOR',\n",
       "   'SK_D_PRODUTO',\n",
       "   'CODIGO_ORDEM',\n",
       "   'STATUS',\n",
       "   'TIPO_PAGAMENTO',\n",
       "   'DATA_ORDEM_COMPRA',\n",
       "   'DATA_ORDEM_APROVACAO',\n",
       "   'DATA_DESPACHO',\n",
       "   'DATA_ENTREGA_CLIENTE',\n",
       "   'DATA_ESTIMATIVA_ENTREGUA',\n",
       "   'TOTAL_PRECO_ITEM',\n",
       "   'TOTAL_PRECO_FRETE',\n",
       "   'QUANTIDADE_PARCELAS',\n",
       "   'QUANTIDADE_INSTALLMENTS',\n",
       "   'TOTAL_PRECO_PAGAMENTO',\n",
       "   'DATA_PROCESSAMENTO'],\n",
       "  'dims': ['D_CLIENTE', 'D_VENDEDOR', 'D_PRODUTO']}}"
      ]
     },
     "execution_count": 13,
     "metadata": {},
     "output_type": "execute_result"
    }
   ],
   "source": [
    "dms_dict[dm]"
   ]
  },
  {
   "attachments": {},
   "cell_type": "markdown",
   "metadata": {},
   "source": [
    "#### 1.3. Generate Fact Mer Diagram"
   ]
  },
  {
   "cell_type": "code",
   "execution_count": 17,
   "metadata": {},
   "outputs": [
    {
     "name": "stdout",
     "output_type": "stream",
     "text": [
      "DMOls\n",
      "\tF_ORDEM_ITEM\n"
     ]
    }
   ],
   "source": [
    "for dm in SCHEMAS:\n",
    "    print(dm)\n",
    "    if not os.path.isdir(f'pngs/{dm}'): os.makedirs(f\"pngs/{dm}\")\n",
    "    if not os.path.isdir(f'dots/{dm}'): os.makedirs(f\"dots/{dm}\")\n",
    "\n",
    "    for fact in dms_dict[dm].keys():\n",
    "        print(\"\\t\"+fact)\n",
    "        \n",
    "        file_path = f'dots/{dm}/{dm}_{fact}.dot'\n",
    "        img_path = f'pngs/{dm}/{dm}_{fact}'\n",
    "\n",
    "        # Check if have dims join on fact *\n",
    "        if dms_dict[dm][fact]['dims']:\n",
    "            include_tables = f\"{dm}.{fact} {dm}.\" + f\" {dm}.\".join(dms_dict[dm][fact]['dims'])\n",
    "        \n",
    "        else:\n",
    "            include_tables = f\"{dm}.{fact}\"\n",
    "\n",
    "        render_er(string_con_sql_server, file_path, schema=dm, include_tables=include_tables)\n",
    "\n",
    "        with open(file_path) as dot:\n",
    "            dot_ = dot.read()\n",
    "\n",
    "        size = round(len(dms_dict[dm][fact]['dims'])/2)\n",
    "        ext_lines = f';\\n\"' \n",
    "        ext_lines += f'\"--\"{fact}\";\\n\"'.join(dms_dict[dm][fact]['dims'][:size]) \n",
    "        ext_lines += f'\"--\"{fact}\";\\n\"{fact}\"--\"'\n",
    "        ext_lines += f'\";\\n\"{fact}\"--\"'.join(dms_dict[dm][fact]['dims'][size:]) \n",
    "        ext_lines += '\";\\n\\n}'\n",
    "        \n",
    "        dot_string = dot_.replace('digraph', 'graph'). \\\n",
    "                          replace(' -> ', ' -- ').replace(f'{dm}.', ''). \\\n",
    "                          replace(' COLLATE \"SQL_Latin1_General_CP1_CI_AS\"', '').\\\n",
    "                          replace(' COLLATE \"SQL_Latin1_General_CP1_CI_AI\"', ''). \\\n",
    "                          replace(\";\\n\\n}\", ext_lines)\n",
    "\n",
    "        src = graphviz.Source(dot_string)\n",
    "        src.format = 'png'\n",
    "        src.render(img_path)\n",
    "        os.remove(img_path)\n",
    "\n",
    "con.close()\n",
    "db.dispose()"
   ]
  }
 ],
 "metadata": {
  "kernelspec": {
   "display_name": "bild_projects",
   "language": "python",
   "name": "python3"
  },
  "language_info": {
   "codemirror_mode": {
    "name": "ipython",
    "version": 3
   },
   "file_extension": ".py",
   "mimetype": "text/x-python",
   "name": "python",
   "nbconvert_exporter": "python",
   "pygments_lexer": "ipython3",
   "version": "3.10.6"
  }
 },
 "nbformat": 4,
 "nbformat_minor": 4
}
