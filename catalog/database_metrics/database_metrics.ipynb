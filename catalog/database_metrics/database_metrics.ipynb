{
 "cells": [
  {
   "attachments": {},
   "cell_type": "markdown",
   "metadata": {},
   "source": [
    "## Database Metrics"
   ]
  },
  {
   "attachments": {},
   "cell_type": "markdown",
   "metadata": {},
   "source": [
    "### 0.0. Requirements"
   ]
  },
  {
   "attachments": {},
   "cell_type": "markdown",
   "metadata": {},
   "source": [
    "#### 0.1. Imports"
   ]
  },
  {
   "cell_type": "code",
   "execution_count": 30,
   "metadata": {},
   "outputs": [],
   "source": [
    "import os\n",
    "import re\n",
    "import pandas as pd\n",
    "\n",
    "from datetime import datetime\n",
    "from concurrent.futures import ThreadPoolExecutor\n",
    "\n",
    "from sqlalchemy import event\n",
    "from sqlalchemy.engine import create_engine\n",
    "\n",
    "from warnings import filterwarnings\n",
    "filterwarnings('ignore')"
   ]
  },
  {
   "cell_type": "code",
   "execution_count": 5,
   "metadata": {},
   "outputs": [
    {
     "name": "stdout",
     "output_type": "stream",
     "text": [
      "linux\n",
      "SQLAlchemy Version: 1.4.47\n"
     ]
    }
   ],
   "source": [
    "from sys import platform\n",
    "from sqlalchemy import __version__\n",
    "\n",
    "print(platform)\n",
    "print(f'SQLAlchemy Version: {__version__}')"
   ]
  },
  {
   "attachments": {},
   "cell_type": "markdown",
   "metadata": {},
   "source": [
    "#### 0.2. Aux Functions"
   ]
  },
  {
   "cell_type": "code",
   "execution_count": 31,
   "metadata": {},
   "outputs": [],
   "source": [
    "def get_ssms_connection(connection_string):\n",
    "    engine = create_engine(connection_string)\n",
    "\n",
    "    @event.listens_for(engine, 'before_cursor_execute')\n",
    "    def receive_before_cursor_execute(conn, cursor, statement, params, context, executemany):\n",
    "        if executemany:\n",
    "            cursor.fast_executemany = True\n",
    "            cursor.commit()\n",
    "\n",
    "    return engine\n",
    "\n",
    "def get_tables(engine):\n",
    "    con = engine.connect()\n",
    "\n",
    "    stgs = con.execute(f\"SELECT TABLE_SCHEMA, TABLE_NAME FROM INFORMATION_SCHEMA.TABLES WHERE lower(TABLE_NAME) like 'stg[_]%' AND TABLE_SCHEMA IN ({SCHEMAS_STR}) ORDER BY 1\")\n",
    "    stgs = stgs.fetchall()\n",
    "\n",
    "    dims = con.execute(f\"SELECT TABLE_SCHEMA, TABLE_NAME FROM INFORMATION_SCHEMA.TABLES WHERE TABLE_NAME like 'D[_]%' AND TABLE_SCHEMA IN ({SCHEMAS_STR}) ORDER BY 1\")\n",
    "    dims = dims.fetchall()\n",
    "\n",
    "    facts = con.execute(f\"SELECT TABLE_SCHEMA, TABLE_NAME FROM INFORMATION_SCHEMA.TABLES WHERE TABLE_NAME like 'F[_]%' AND TABLE_SCHEMA IN ({SCHEMAS_STR}) ORDER BY 1\")\n",
    "    facts = facts.fetchall()\n",
    "\n",
    "    stgs = [schema + \".\" + name for schema, name in stgs]\n",
    "    dims = [schema + \".\" + name for schema, name in dims]\n",
    "    facts = [schema + \".\" + name for schema, name in facts]\n",
    "\n",
    "    con.close()\n",
    "    \n",
    "    return stgs, dims, facts\n",
    "\n",
    "def get_table_infos(engine, tables):\n",
    "    results = []\n",
    "    con = engine.connect()\n",
    "\n",
    "    for table in tables:\n",
    "        try:\n",
    "            m = con.execute(f\"SELECT MAX(DATA_PROCESSAMENTO) FROM {table}\").fetchone()\n",
    "            if m: m = m[0]\n",
    "            else: m = None\n",
    "        \n",
    "        except:\n",
    "            m = None\n",
    "\n",
    "        space_table = con.execute(f\"sp_spaceused '{table}'\").fetchone()\n",
    "        space_table = {str(k).strip():str(v).strip() for k, v in space_table._mapping.items()}\n",
    "\n",
    "        table_info = {'SCHEMA': table.split('.')[0],\n",
    "            'TABLE': table.split('.')[-1], \n",
    "            'MAX_DATA_PROCESSAMENTO': m} | space_table\n",
    "        \n",
    "        results.append(table_info)\n",
    "\n",
    "    con.close()\n",
    "\n",
    "    return results\n",
    "\n",
    "def check_control_schema(engine, check_schema):\n",
    "    con = engine.connect()\n",
    "\n",
    "    current_schemas = con.execute(\"SELECT name FROM sys.schemas\").fetchall()\n",
    "\n",
    "    if check_schema not in [k[0] for k in current_schemas]:\n",
    "\n",
    "        con.execute(f'CREATE SCHEMA {check_schema}')\n",
    "\n",
    "    con.close()"
   ]
  },
  {
   "attachments": {},
   "cell_type": "markdown",
   "metadata": {},
   "source": [
    "### 1.0. Database Metrics"
   ]
  },
  {
   "cell_type": "code",
   "execution_count": 15,
   "metadata": {},
   "outputs": [],
   "source": [
    "ssms_db   = os.environ.get(\"ssms_db\")\n",
    "ssms_host = os.environ.get(\"ssms_host\")\n",
    "ssms_user = os.environ.get(\"ssms_user\")\n",
    "ssms_pswd = os.environ.get(\"ssms_pswd\")\n",
    "\n",
    "SCHEMAS = [\n",
    "    'DMOls',\n",
    "    'StgOls'\n",
    "]\n",
    "\n",
    "DW_SCHEMA = 'DMControl'\n",
    "SCHEMAS_STR = \"'\" + \"', '\".join(SCHEMAS) + \"'\""
   ]
  },
  {
   "cell_type": "code",
   "execution_count": 32,
   "metadata": {},
   "outputs": [],
   "source": [
    "string_con_sql_server = f\"mssql+pyodbc:///?odbc_connect=DRIVER={{ODBC Driver 17 for SQL Server}};SERVER={ssms_host};DATABASE={ssms_db};UID={ssms_user};PWD={ssms_pswd}\"\n",
    "\n",
    "engine = get_ssms_connection(string_con_sql_server)"
   ]
  },
  {
   "attachments": {},
   "cell_type": "markdown",
   "metadata": {},
   "source": [
    "#### 1.1. Load Data"
   ]
  },
  {
   "cell_type": "code",
   "execution_count": 17,
   "metadata": {},
   "outputs": [],
   "source": [
    "# Get Stages, Dims and Facts table for all Dw\n",
    "stgs, dims, facts = get_tables(engine)"
   ]
  },
  {
   "cell_type": "code",
   "execution_count": 22,
   "metadata": {},
   "outputs": [],
   "source": [
    "# Parallel thread for schemas, facts and dims\n",
    "with ThreadPoolExecutor(max_workers=3) as executor:\n",
    "    future1 = executor.submit(get_table_infos, engine, stgs)\n",
    "    future2 = executor.submit(get_table_infos, engine, dims)\n",
    "    future3 = executor.submit(get_table_infos, engine, facts)\n",
    "\n",
    "    result1 = future1.result()\n",
    "    result2 = future2.result()\n",
    "    result3 = future3.result()\n",
    "\n",
    "results = result1 + result2 + result3"
   ]
  },
  {
   "cell_type": "code",
   "execution_count": 26,
   "metadata": {},
   "outputs": [],
   "source": [
    "df_history_table_sizes = pd.DataFrame(results)\n",
    "df_history_table_sizes.columns = [k.strip().upper() for k in df_history_table_sizes.columns]\n",
    "\n",
    "df_history_table_sizes.drop(columns=['TABLE'], inplace=True)\n",
    "\n",
    "df_history_table_sizes.columns = ['DM', 'ULTIMA_DATA_PROCESSAMENTO', 'NOME', 'LINHAS', 'TAMANHO_RESERVADO', 'TAMANHO_DADO', 'TAMANHO_INDEX', 'SEM_USO']\n",
    "\n",
    "df_history_table_sizes['DATA_BASE'] = datetime.now().strftime('%Y-%m-%d')"
   ]
  },
  {
   "cell_type": "code",
   "execution_count": 44,
   "metadata": {},
   "outputs": [],
   "source": [
    "# Check Existing Control Schema\n",
    "check_control_schema(engine, DW_SCHEMA)"
   ]
  },
  {
   "cell_type": "code",
   "execution_count": 52,
   "metadata": {},
   "outputs": [
    {
     "data": {
      "text/plain": [
       "-1"
      ]
     },
     "execution_count": 52,
     "metadata": {},
     "output_type": "execute_result"
    }
   ],
   "source": [
    "# Append because this is a DAILY dw table sizes checkout\n",
    "df_history_table_sizes.to_sql(\n",
    "    'TABLE_SIZES',\n",
    "    con=engine,\n",
    "    schema=DW_SCHEMA,\n",
    "    if_exists='append',\n",
    "    index=False,\n",
    ")"
   ]
  },
  {
   "cell_type": "code",
   "execution_count": 55,
   "metadata": {},
   "outputs": [
    {
     "data": {
      "text/html": [
       "<div>\n",
       "<style scoped>\n",
       "    .dataframe tbody tr th:only-of-type {\n",
       "        vertical-align: middle;\n",
       "    }\n",
       "\n",
       "    .dataframe tbody tr th {\n",
       "        vertical-align: top;\n",
       "    }\n",
       "\n",
       "    .dataframe thead th {\n",
       "        text-align: right;\n",
       "    }\n",
       "</style>\n",
       "<table border=\"1\" class=\"dataframe\">\n",
       "  <thead>\n",
       "    <tr style=\"text-align: right;\">\n",
       "      <th></th>\n",
       "      <th>8</th>\n",
       "    </tr>\n",
       "  </thead>\n",
       "  <tbody>\n",
       "    <tr>\n",
       "      <th>DM</th>\n",
       "      <td>DMOls</td>\n",
       "    </tr>\n",
       "    <tr>\n",
       "      <th>ULTIMA_DATA_PROCESSAMENTO</th>\n",
       "      <td>2023-06-22 23:02:39.917000</td>\n",
       "    </tr>\n",
       "    <tr>\n",
       "      <th>NOME</th>\n",
       "      <td>F_ORDEM_ITEM</td>\n",
       "    </tr>\n",
       "    <tr>\n",
       "      <th>LINHAS</th>\n",
       "      <td>103616</td>\n",
       "    </tr>\n",
       "    <tr>\n",
       "      <th>TAMANHO_RESERVADO</th>\n",
       "      <td>23440 KB</td>\n",
       "    </tr>\n",
       "    <tr>\n",
       "      <th>TAMANHO_DADO</th>\n",
       "      <td>17544 KB</td>\n",
       "    </tr>\n",
       "    <tr>\n",
       "      <th>TAMANHO_INDEX</th>\n",
       "      <td>5672 KB</td>\n",
       "    </tr>\n",
       "    <tr>\n",
       "      <th>SEM_USO</th>\n",
       "      <td>224 KB</td>\n",
       "    </tr>\n",
       "    <tr>\n",
       "      <th>DATA_BASE</th>\n",
       "      <td>2023-06-28</td>\n",
       "    </tr>\n",
       "  </tbody>\n",
       "</table>\n",
       "</div>"
      ],
      "text/plain": [
       "                                                    8\n",
       "DM                                              DMOls\n",
       "ULTIMA_DATA_PROCESSAMENTO  2023-06-22 23:02:39.917000\n",
       "NOME                                     F_ORDEM_ITEM\n",
       "LINHAS                                         103616\n",
       "TAMANHO_RESERVADO                            23440 KB\n",
       "TAMANHO_DADO                                 17544 KB\n",
       "TAMANHO_INDEX                                 5672 KB\n",
       "SEM_USO                                        224 KB\n",
       "DATA_BASE                                  2023-06-28"
      ]
     },
     "execution_count": 55,
     "metadata": {},
     "output_type": "execute_result"
    }
   ],
   "source": [
    "df_history_table_sizes.tail(1).T"
   ]
  }
 ],
 "metadata": {
  "kernelspec": {
   "display_name": "bild_projects",
   "language": "python",
   "name": "python3"
  },
  "language_info": {
   "codemirror_mode": {
    "name": "ipython",
    "version": 3
   },
   "file_extension": ".py",
   "mimetype": "text/x-python",
   "name": "python",
   "nbconvert_exporter": "python",
   "pygments_lexer": "ipython3",
   "version": "3.10.6"
  }
 },
 "nbformat": 4,
 "nbformat_minor": 4
}
